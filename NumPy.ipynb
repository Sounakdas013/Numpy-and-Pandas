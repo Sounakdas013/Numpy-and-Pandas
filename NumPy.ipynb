{
 "cells": [
  {
   "cell_type": "markdown",
   "id": "c5308c19",
   "metadata": {},
   "source": [
    "# numpy: package for multidimensional arRAY\n",
    "VECTOR(1D)\n",
    "\n",
    "MATRIX(1D OR 2D)"
   ]
  },
  {
   "cell_type": "markdown",
   "id": "e7976e05",
   "metadata": {},
   "source": [
    "### create an array"
   ]
  },
  {
   "cell_type": "code",
   "execution_count": 3,
   "id": "caca76da",
   "metadata": {},
   "outputs": [],
   "source": [
    "import numpy as np"
   ]
  },
  {
   "cell_type": "code",
   "execution_count": 1,
   "id": "13619110",
   "metadata": {},
   "outputs": [],
   "source": [
    "list= [5,6,7]"
   ]
  },
  {
   "cell_type": "code",
   "execution_count": 4,
   "id": "cafa8d0c",
   "metadata": {},
   "outputs": [
    {
     "data": {
      "text/plain": [
       "array([5, 6, 7])"
      ]
     },
     "execution_count": 4,
     "metadata": {},
     "output_type": "execute_result"
    }
   ],
   "source": [
    "np.array(list)"
   ]
  },
  {
   "cell_type": "code",
   "execution_count": 6,
   "id": "93ee857b",
   "metadata": {},
   "outputs": [
    {
     "data": {
      "text/plain": [
       "array([5, 6, 7])"
      ]
     },
     "execution_count": 6,
     "metadata": {},
     "output_type": "execute_result"
    }
   ],
   "source": [
    "y= np.array(list)\n",
    "y"
   ]
  },
  {
   "cell_type": "code",
   "execution_count": 7,
   "id": "e530cd41",
   "metadata": {},
   "outputs": [],
   "source": [
    "list_of_lists=([1,2,3],[5,9,8],[11,12,13])"
   ]
  },
  {
   "cell_type": "code",
   "execution_count": 8,
   "id": "cd5bc7f3",
   "metadata": {},
   "outputs": [
    {
     "data": {
      "text/plain": [
       "array([[ 1,  2,  3],\n",
       "       [ 5,  9,  8],\n",
       "       [11, 12, 13]])"
      ]
     },
     "execution_count": 8,
     "metadata": {},
     "output_type": "execute_result"
    }
   ],
   "source": [
    "x=np.array(list_of_lists)\n",
    "x"
   ]
  },
  {
   "cell_type": "code",
   "execution_count": 10,
   "id": "c04f80f5",
   "metadata": {},
   "outputs": [
    {
     "data": {
      "text/plain": [
       "array([ 4,  5,  6,  7,  8,  9, 10, 11, 12, 13, 14, 15, 16, 17, 18, 19])"
      ]
     },
     "execution_count": 10,
     "metadata": {},
     "output_type": "execute_result"
    }
   ],
   "source": [
    "np.arange(4,20)"
   ]
  },
  {
   "cell_type": "code",
   "execution_count": 11,
   "id": "230cf450",
   "metadata": {},
   "outputs": [
    {
     "data": {
      "text/plain": [
       "array([ 4,  9, 14, 19])"
      ]
     },
     "execution_count": 11,
     "metadata": {},
     "output_type": "execute_result"
    }
   ],
   "source": [
    "np.arange(4,20,5)"
   ]
  },
  {
   "cell_type": "code",
   "execution_count": 12,
   "id": "690c2579",
   "metadata": {},
   "outputs": [
    {
     "data": {
      "text/plain": [
       "array([0., 0., 0., 0., 0., 0.])"
      ]
     },
     "execution_count": 12,
     "metadata": {},
     "output_type": "execute_result"
    }
   ],
   "source": [
    "np.zeros(6)"
   ]
  },
  {
   "cell_type": "code",
   "execution_count": 13,
   "id": "485a2fd7",
   "metadata": {},
   "outputs": [
    {
     "data": {
      "text/plain": [
       "array([0, 0, 0, 0, 0, 0])"
      ]
     },
     "execution_count": 13,
     "metadata": {},
     "output_type": "execute_result"
    }
   ],
   "source": [
    "np.zeros(6,dtype=int)"
   ]
  },
  {
   "cell_type": "code",
   "execution_count": 14,
   "id": "b71ece43",
   "metadata": {},
   "outputs": [
    {
     "data": {
      "text/plain": [
       "array([1., 1., 1., 1.])"
      ]
     },
     "execution_count": 14,
     "metadata": {},
     "output_type": "execute_result"
    }
   ],
   "source": [
    "np.ones(4)"
   ]
  },
  {
   "cell_type": "code",
   "execution_count": 15,
   "id": "cdef8bbd",
   "metadata": {},
   "outputs": [
    {
     "data": {
      "text/plain": [
       "array([[1, 1, 1, 1, 1],\n",
       "       [1, 1, 1, 1, 1],\n",
       "       [1, 1, 1, 1, 1]])"
      ]
     },
     "execution_count": 15,
     "metadata": {},
     "output_type": "execute_result"
    }
   ],
   "source": [
    "np.ones((3,5),dtype=int)"
   ]
  },
  {
   "cell_type": "code",
   "execution_count": 24,
   "id": "237202d5",
   "metadata": {},
   "outputs": [
    {
     "data": {
      "text/plain": [
       "array([ 0.  ,  6.25, 12.5 , 18.75, 25.  , 31.25, 37.5 , 43.75, 50.  ])"
      ]
     },
     "execution_count": 24,
     "metadata": {},
     "output_type": "execute_result"
    }
   ],
   "source": [
    "np.linspace(0,50,9)\n"
   ]
  },
  {
   "cell_type": "code",
   "execution_count": 25,
   "id": "91fd5219",
   "metadata": {},
   "outputs": [
    {
     "data": {
      "text/plain": [
       "array([ 0,  6, 12, 18, 25, 31, 37, 43, 50])"
      ]
     },
     "execution_count": 25,
     "metadata": {},
     "output_type": "execute_result"
    }
   ],
   "source": [
    "np.linspace(0,50,9,dtype=int)\n"
   ]
  },
  {
   "cell_type": "code",
   "execution_count": 27,
   "id": "5846e968",
   "metadata": {},
   "outputs": [
    {
     "data": {
      "text/plain": [
       "array([[1, 0, 0, 0, 0],\n",
       "       [0, 1, 0, 0, 0],\n",
       "       [0, 0, 1, 0, 0],\n",
       "       [0, 0, 0, 1, 0],\n",
       "       [0, 0, 0, 0, 1]])"
      ]
     },
     "execution_count": 27,
     "metadata": {},
     "output_type": "execute_result"
    }
   ],
   "source": [
    "np.eye(5,dtype=int)"
   ]
  },
  {
   "cell_type": "code",
   "execution_count": 28,
   "id": "fbbf35d5",
   "metadata": {},
   "outputs": [
    {
     "data": {
      "text/plain": [
       "array([[0.93024241, 0.65306529, 0.63446359]])"
      ]
     },
     "execution_count": 28,
     "metadata": {},
     "output_type": "execute_result"
    }
   ],
   "source": [
    "np.random.rand(1,3)"
   ]
  },
  {
   "cell_type": "code",
   "execution_count": 30,
   "id": "13f1045d",
   "metadata": {},
   "outputs": [
    {
     "data": {
      "text/plain": [
       "array([[-0.73116653, -0.32267647,  0.25349006],\n",
       "       [ 0.1158696 , -0.10521119, -1.53867317]])"
      ]
     },
     "execution_count": 30,
     "metadata": {},
     "output_type": "execute_result"
    }
   ],
   "source": [
    "np.random.randn(2,3)"
   ]
  },
  {
   "cell_type": "code",
   "execution_count": 37,
   "id": "4da7099f",
   "metadata": {},
   "outputs": [
    {
     "data": {
      "text/plain": [
       "array([6, 7, 7, 8, 8, 9])"
      ]
     },
     "execution_count": 37,
     "metadata": {},
     "output_type": "execute_result"
    }
   ],
   "source": [
    "np.random.randint(5,10,6)"
   ]
  },
  {
   "cell_type": "code",
   "execution_count": 36,
   "id": "3d02bf22",
   "metadata": {},
   "outputs": [
    {
     "data": {
      "text/plain": [
       "array([7, 8, 6, 8, 5, 9])"
      ]
     },
     "execution_count": 36,
     "metadata": {},
     "output_type": "execute_result"
    }
   ],
   "source": [
    "np.random.randint(5,10.5,6)"
   ]
  },
  {
   "cell_type": "code",
   "execution_count": 38,
   "id": "083ddc0e",
   "metadata": {},
   "outputs": [
    {
     "data": {
      "text/plain": [
       "array([30, 30, 32, 33, 32, 30, 36, 33, 30, 35, 34, 30, 34, 31, 33, 35, 31,\n",
       "       33, 38, 32])"
      ]
     },
     "execution_count": 38,
     "metadata": {},
     "output_type": "execute_result"
    }
   ],
   "source": [
    "np.random.randint(30,40,20)"
   ]
  },
  {
   "cell_type": "code",
   "execution_count": 40,
   "id": "2037e055",
   "metadata": {},
   "outputs": [
    {
     "data": {
      "text/plain": [
       "array([ 2,  5,  8, 11, 14])"
      ]
     },
     "execution_count": 40,
     "metadata": {},
     "output_type": "execute_result"
    }
   ],
   "source": [
    "sample_array=np.arange(2,15,3)\n",
    "sample_array"
   ]
  },
  {
   "cell_type": "code",
   "execution_count": 68,
   "id": "ed0b636a",
   "metadata": {},
   "outputs": [
    {
     "data": {
      "text/plain": [
       "array([17,  7, 11,  0,  5, 12,  3, 13,  4])"
      ]
     },
     "execution_count": 68,
     "metadata": {},
     "output_type": "execute_result"
    }
   ],
   "source": [
    "rand_array=np.random.randint(0,20,9)\n",
    "rand_array"
   ]
  },
  {
   "cell_type": "code",
   "execution_count": 43,
   "id": "f5c2909b",
   "metadata": {},
   "outputs": [
    {
     "data": {
      "text/plain": [
       "2"
      ]
     },
     "execution_count": 43,
     "metadata": {},
     "output_type": "execute_result"
    }
   ],
   "source": [
    "sample_array.min()"
   ]
  },
  {
   "cell_type": "code",
   "execution_count": 44,
   "id": "1135b7f0",
   "metadata": {},
   "outputs": [
    {
     "data": {
      "text/plain": [
       "0"
      ]
     },
     "execution_count": 44,
     "metadata": {},
     "output_type": "execute_result"
    }
   ],
   "source": [
    "sample_array.argmin()"
   ]
  },
  {
   "cell_type": "code",
   "execution_count": 45,
   "id": "1df12e3b",
   "metadata": {},
   "outputs": [
    {
     "data": {
      "text/plain": [
       "18"
      ]
     },
     "execution_count": 45,
     "metadata": {},
     "output_type": "execute_result"
    }
   ],
   "source": [
    "rand_array.max()"
   ]
  },
  {
   "cell_type": "code",
   "execution_count": 46,
   "id": "46ecae68",
   "metadata": {},
   "outputs": [
    {
     "data": {
      "text/plain": [
       "7"
      ]
     },
     "execution_count": 46,
     "metadata": {},
     "output_type": "execute_result"
    }
   ],
   "source": [
    "rand_array.argmax()"
   ]
  },
  {
   "cell_type": "code",
   "execution_count": 50,
   "id": "08148b61",
   "metadata": {},
   "outputs": [
    {
     "data": {
      "text/plain": [
       "dtype('int32')"
      ]
     },
     "execution_count": 50,
     "metadata": {},
     "output_type": "execute_result"
    }
   ],
   "source": [
    "sample_array.dtype"
   ]
  },
  {
   "cell_type": "code",
   "execution_count": 51,
   "id": "ba114e92",
   "metadata": {},
   "outputs": [
    {
     "data": {
      "text/plain": [
       "array([[1., 0., 0., 0., 0.],\n",
       "       [0., 1., 0., 0., 0.],\n",
       "       [0., 0., 1., 0., 0.],\n",
       "       [0., 0., 0., 1., 0.],\n",
       "       [0., 0., 0., 0., 1.]])"
      ]
     },
     "execution_count": 51,
     "metadata": {},
     "output_type": "execute_result"
    }
   ],
   "source": [
    "a=np.eye(5)\n",
    "a"
   ]
  },
  {
   "cell_type": "code",
   "execution_count": 52,
   "id": "bfef9d51",
   "metadata": {},
   "outputs": [
    {
     "data": {
      "text/plain": [
       "array([[1., 0., 0., 0., 0.],\n",
       "       [0., 1., 0., 0., 0.],\n",
       "       [0., 0., 1., 0., 0.],\n",
       "       [0., 0., 0., 1., 0.],\n",
       "       [0., 0., 0., 0., 1.]])"
      ]
     },
     "execution_count": 52,
     "metadata": {},
     "output_type": "execute_result"
    }
   ],
   "source": [
    "a.T"
   ]
  },
  {
   "cell_type": "code",
   "execution_count": 56,
   "id": "f26dadf6",
   "metadata": {},
   "outputs": [
    {
     "data": {
      "text/plain": [
       "array([[[0.20269119, 0.11297072, 0.15562465],\n",
       "        [0.50783856, 0.56608827, 0.02321125]],\n",
       "\n",
       "       [[0.66896316, 0.2175249 , 0.74315905],\n",
       "        [0.39901139, 0.62308415, 0.3709703 ]]])"
      ]
     },
     "execution_count": 56,
     "metadata": {},
     "output_type": "execute_result"
    }
   ],
   "source": [
    "b=np.random.rand(2,2,3)  # 2 list of 2x3 mat\n",
    "b"
   ]
  },
  {
   "cell_type": "code",
   "execution_count": 57,
   "id": "bcea408e",
   "metadata": {},
   "outputs": [
    {
     "data": {
      "text/plain": [
       "array([[[0.20269119, 0.66896316],\n",
       "        [0.50783856, 0.39901139]],\n",
       "\n",
       "       [[0.11297072, 0.2175249 ],\n",
       "        [0.56608827, 0.62308415]],\n",
       "\n",
       "       [[0.15562465, 0.74315905],\n",
       "        [0.02321125, 0.3709703 ]]])"
      ]
     },
     "execution_count": 57,
     "metadata": {},
     "output_type": "execute_result"
    }
   ],
   "source": [
    "b.T    ## 3 list of 2x2 mat"
   ]
  },
  {
   "cell_type": "code",
   "execution_count": 69,
   "id": "0630b39a",
   "metadata": {},
   "outputs": [
    {
     "data": {
      "text/plain": [
       "array([[17,  7, 11],\n",
       "       [ 0,  5, 12],\n",
       "       [ 3, 13,  4]])"
      ]
     },
     "execution_count": 69,
     "metadata": {},
     "output_type": "execute_result"
    }
   ],
   "source": [
    "rand_array.reshape(3,3)"
   ]
  },
  {
   "cell_type": "code",
   "execution_count": 60,
   "id": "58e5a0f9",
   "metadata": {},
   "outputs": [
    {
     "ename": "ValueError",
     "evalue": "cannot reshape array of size 9 into shape (3,4)",
     "output_type": "error",
     "traceback": [
      "\u001b[1;31m---------------------------------------------------------------------------\u001b[0m",
      "\u001b[1;31mValueError\u001b[0m                                Traceback (most recent call last)",
      "\u001b[1;32m<ipython-input-60-4bbe10af6e81>\u001b[0m in \u001b[0;36m<module>\u001b[1;34m\u001b[0m\n\u001b[1;32m----> 1\u001b[1;33m \u001b[0mrand_array\u001b[0m\u001b[1;33m.\u001b[0m\u001b[0mreshape\u001b[0m\u001b[1;33m(\u001b[0m\u001b[1;36m3\u001b[0m\u001b[1;33m,\u001b[0m\u001b[1;36m4\u001b[0m\u001b[1;33m)\u001b[0m\u001b[1;33m\u001b[0m\u001b[1;33m\u001b[0m\u001b[0m\n\u001b[0m",
      "\u001b[1;31mValueError\u001b[0m: cannot reshape array of size 9 into shape (3,4)"
     ]
    }
   ],
   "source": [
    "rand_array.reshape(3,4)"
   ]
  },
  {
   "cell_type": "code",
   "execution_count": 70,
   "id": "ff28e7e0",
   "metadata": {},
   "outputs": [
    {
     "data": {
      "text/plain": [
       "array([[17,  7, 11],\n",
       "       [ 0,  5, 12],\n",
       "       [ 3, 13,  4]])"
      ]
     },
     "execution_count": 70,
     "metadata": {},
     "output_type": "execute_result"
    }
   ],
   "source": [
    "rand_array=rand_array.reshape(3,3)\n",
    "rand_array"
   ]
  },
  {
   "cell_type": "code",
   "execution_count": 71,
   "id": "65369789",
   "metadata": {},
   "outputs": [
    {
     "data": {
      "text/plain": [
       "array([[10, 10, 10],\n",
       "       [ 0,  5, 12],\n",
       "       [ 3, 13,  4]])"
      ]
     },
     "execution_count": 71,
     "metadata": {},
     "output_type": "execute_result"
    }
   ],
   "source": [
    "rand_array[0]=10\n",
    "rand_array"
   ]
  },
  {
   "cell_type": "code",
   "execution_count": 73,
   "id": "5058130f",
   "metadata": {},
   "outputs": [
    {
     "data": {
      "text/plain": [
       "array([[100, 100, 100],\n",
       "       [100, 100, 100],\n",
       "       [100, 100, 100]])"
      ]
     },
     "execution_count": 73,
     "metadata": {},
     "output_type": "execute_result"
    }
   ],
   "source": [
    "rand_array[:]=100\n",
    "rand_array"
   ]
  },
  {
   "cell_type": "code",
   "execution_count": 75,
   "id": "cac78314",
   "metadata": {},
   "outputs": [
    {
     "data": {
      "text/plain": [
       "array([45, 89, 33, 31, 86, 69, 44, 63, 69, 80, 62, 88, 57, 43, 84, 78, 76,\n",
       "       95, 36, 83])"
      ]
     },
     "execution_count": 75,
     "metadata": {},
     "output_type": "execute_result"
    }
   ],
   "source": [
    "sample1_array=np.random.randint(30,100,20)\n",
    "sample1_array"
   ]
  },
  {
   "cell_type": "code",
   "execution_count": 77,
   "id": "af715055",
   "metadata": {},
   "outputs": [
    {
     "data": {
      "text/plain": [
       "array([45, 89, 33, 31, 86, 69, 44])"
      ]
     },
     "execution_count": 77,
     "metadata": {},
     "output_type": "execute_result"
    }
   ],
   "source": [
    "subset=sample1_array[0:7]\n",
    "subset"
   ]
  },
  {
   "cell_type": "code",
   "execution_count": 80,
   "id": "ea163996",
   "metadata": {},
   "outputs": [
    {
     "data": {
      "text/plain": [
       "array([[ 1,  2,  3],\n",
       "       [ 5,  9,  8],\n",
       "       [11, 12, 13]])"
      ]
     },
     "execution_count": 80,
     "metadata": {},
     "output_type": "execute_result"
    }
   ],
   "source": [
    "z=np.array(list_of_lists)\n",
    "z"
   ]
  },
  {
   "cell_type": "code",
   "execution_count": 81,
   "id": "459233ab",
   "metadata": {},
   "outputs": [
    {
     "data": {
      "text/plain": [
       "13"
      ]
     },
     "execution_count": 81,
     "metadata": {},
     "output_type": "execute_result"
    }
   ],
   "source": [
    "z[2][2]"
   ]
  },
  {
   "cell_type": "code",
   "execution_count": 82,
   "id": "e7b33b67",
   "metadata": {},
   "outputs": [
    {
     "data": {
      "text/plain": [
       "13"
      ]
     },
     "execution_count": 82,
     "metadata": {},
     "output_type": "execute_result"
    }
   ],
   "source": [
    "z[2,2]"
   ]
  },
  {
   "cell_type": "code",
   "execution_count": 83,
   "id": "63bea467",
   "metadata": {},
   "outputs": [
    {
     "data": {
      "text/plain": [
       "array([[ 5,  9,  8],\n",
       "       [11, 12, 13]])"
      ]
     },
     "execution_count": 83,
     "metadata": {},
     "output_type": "execute_result"
    }
   ],
   "source": [
    "z[1:,0:]"
   ]
  },
  {
   "cell_type": "code",
   "execution_count": 84,
   "id": "aba5bdb9",
   "metadata": {},
   "outputs": [
    {
     "data": {
      "text/plain": [
       "array([3.49342711e+19, 4.48961282e+38, 2.14643580e+14, 2.90488497e+13,\n",
       "       2.23524660e+37, 9.25378173e+29, 1.28516001e+19])"
      ]
     },
     "execution_count": 84,
     "metadata": {},
     "output_type": "execute_result"
    }
   ],
   "source": [
    "np.exp(subset)"
   ]
  },
  {
   "cell_type": "code",
   "execution_count": 85,
   "id": "efa83ef4",
   "metadata": {},
   "outputs": [
    {
     "data": {
      "text/plain": [
       "array([6.70820393, 9.43398113, 5.74456265, 5.56776436, 9.2736185 ,\n",
       "       8.30662386, 6.63324958])"
      ]
     },
     "execution_count": 85,
     "metadata": {},
     "output_type": "execute_result"
    }
   ],
   "source": [
    "np.sqrt(subset)"
   ]
  },
  {
   "cell_type": "code",
   "execution_count": 87,
   "id": "77da516b",
   "metadata": {},
   "outputs": [
    {
     "data": {
      "text/plain": [
       "array([2025, 7921, 1089,  961, 7396, 4761, 1936], dtype=int32)"
      ]
     },
     "execution_count": 87,
     "metadata": {},
     "output_type": "execute_result"
    }
   ],
   "source": [
    "np.square(subset)"
   ]
  },
  {
   "cell_type": "code",
   "execution_count": 88,
   "id": "b6ed7a79",
   "metadata": {},
   "outputs": [
    {
     "data": {
      "text/plain": [
       "array([3.80666249, 4.48863637, 3.49650756, 3.4339872 , 4.4543473 ,\n",
       "       4.2341065 , 3.78418963])"
      ]
     },
     "execution_count": 88,
     "metadata": {},
     "output_type": "execute_result"
    }
   ],
   "source": [
    "np.log(subset)"
   ]
  },
  {
   "cell_type": "code",
   "execution_count": 89,
   "id": "48cbcbc5",
   "metadata": {},
   "outputs": [
    {
     "data": {
      "text/plain": [
       "89"
      ]
     },
     "execution_count": 89,
     "metadata": {},
     "output_type": "execute_result"
    }
   ],
   "source": [
    "np.max(subset)"
   ]
  },
  {
   "cell_type": "code",
   "execution_count": 90,
   "id": "7546057d",
   "metadata": {},
   "outputs": [
    {
     "data": {
      "text/plain": [
       "1"
      ]
     },
     "execution_count": 90,
     "metadata": {},
     "output_type": "execute_result"
    }
   ],
   "source": [
    "np.argmax(subset)"
   ]
  },
  {
   "cell_type": "code",
   "execution_count": 91,
   "id": "0a41722b",
   "metadata": {},
   "outputs": [
    {
     "data": {
      "text/plain": [
       "31"
      ]
     },
     "execution_count": 91,
     "metadata": {},
     "output_type": "execute_result"
    }
   ],
   "source": [
    "np.min(subset)"
   ]
  },
  {
   "cell_type": "code",
   "execution_count": 92,
   "id": "f803b037",
   "metadata": {},
   "outputs": [
    {
     "data": {
      "text/plain": [
       "3"
      ]
     },
     "execution_count": 92,
     "metadata": {},
     "output_type": "execute_result"
    }
   ],
   "source": [
    "np.argmin(subset)"
   ]
  },
  {
   "cell_type": "code",
   "execution_count": 93,
   "id": "288767c1",
   "metadata": {},
   "outputs": [
    {
     "data": {
      "text/plain": [
       "22.59402124276171"
      ]
     },
     "execution_count": 93,
     "metadata": {},
     "output_type": "execute_result"
    }
   ],
   "source": [
    "np.std(subset)"
   ]
  },
  {
   "cell_type": "code",
   "execution_count": 94,
   "id": "e138043a",
   "metadata": {},
   "outputs": [
    {
     "data": {
      "text/plain": [
       "510.4897959183673"
      ]
     },
     "execution_count": 94,
     "metadata": {},
     "output_type": "execute_result"
    }
   ],
   "source": [
    "np.var(subset)"
   ]
  },
  {
   "cell_type": "code",
   "execution_count": 95,
   "id": "5e98be69",
   "metadata": {},
   "outputs": [
    {
     "data": {
      "text/plain": [
       "56.714285714285715"
      ]
     },
     "execution_count": 95,
     "metadata": {},
     "output_type": "execute_result"
    }
   ],
   "source": [
    "np.mean(subset)"
   ]
  },
  {
   "cell_type": "code",
   "execution_count": 97,
   "id": "2f506700",
   "metadata": {},
   "outputs": [
    {
     "data": {
      "text/plain": [
       "array([[0.07585286, 0.56803946, 0.87674003, 0.78276521],\n",
       "       [0.68208311, 0.5144037 , 0.41876141, 0.67130286],\n",
       "       [0.78927841, 0.00380788, 0.60890673, 0.06239841]])"
      ]
     },
     "execution_count": 97,
     "metadata": {},
     "output_type": "execute_result"
    }
   ],
   "source": [
    "array=np.random.rand(3,4)\n",
    "array"
   ]
  },
  {
   "cell_type": "code",
   "execution_count": 98,
   "id": "ddb33b1e",
   "metadata": {},
   "outputs": [
    {
     "data": {
      "text/plain": [
       "array([[0.076, 0.568, 0.877, 0.783],\n",
       "       [0.682, 0.514, 0.419, 0.671],\n",
       "       [0.789, 0.004, 0.609, 0.062]])"
      ]
     },
     "execution_count": 98,
     "metadata": {},
     "output_type": "execute_result"
    }
   ],
   "source": [
    "np.round(array,decimals=3)"
   ]
  },
  {
   "cell_type": "markdown",
   "id": "527efad8",
   "metadata": {},
   "source": [
    "## Pandas"
   ]
  },
  {
   "cell_type": "code",
   "execution_count": 1,
   "id": "fae9e8f8",
   "metadata": {},
   "outputs": [],
   "source": [
    "import pandas as pd"
   ]
  },
  {
   "cell_type": "code",
   "execution_count": 2,
   "id": "f7b65326",
   "metadata": {},
   "outputs": [],
   "source": [
    "labels=['a','b','c','d']"
   ]
  },
  {
   "cell_type": "code",
   "execution_count": 4,
   "id": "1b68551e",
   "metadata": {},
   "outputs": [],
   "source": [
    "list=[15,20,38,42]"
   ]
  },
  {
   "cell_type": "code",
   "execution_count": 5,
   "id": "2560c44a",
   "metadata": {},
   "outputs": [],
   "source": [
    "import numpy as np"
   ]
  },
  {
   "cell_type": "code",
   "execution_count": 6,
   "id": "f1931ccc",
   "metadata": {},
   "outputs": [],
   "source": [
    "array=np.array([1,2,3,4])"
   ]
  },
  {
   "cell_type": "code",
   "execution_count": 7,
   "id": "fcc1e1e7",
   "metadata": {},
   "outputs": [],
   "source": [
    "dict={'w':34,'m':40,'y':45,'z':50}"
   ]
  },
  {
   "cell_type": "code",
   "execution_count": 8,
   "id": "db745c8e",
   "metadata": {},
   "outputs": [
    {
     "data": {
      "text/plain": [
       "0    15\n",
       "1    20\n",
       "2    38\n",
       "3    42\n",
       "dtype: int64"
      ]
     },
     "execution_count": 8,
     "metadata": {},
     "output_type": "execute_result"
    }
   ],
   "source": [
    "pd.Series(data=list)"
   ]
  },
  {
   "cell_type": "code",
   "execution_count": 9,
   "id": "43632e71",
   "metadata": {},
   "outputs": [
    {
     "data": {
      "text/plain": [
       "a    15\n",
       "b    20\n",
       "c    38\n",
       "d    42\n",
       "dtype: int64"
      ]
     },
     "execution_count": 9,
     "metadata": {},
     "output_type": "execute_result"
    }
   ],
   "source": [
    "pd.Series(data=list,index=labels)"
   ]
  },
  {
   "cell_type": "code",
   "execution_count": 10,
   "id": "281e5099",
   "metadata": {},
   "outputs": [
    {
     "data": {
      "text/plain": [
       "15    a\n",
       "20    b\n",
       "38    c\n",
       "42    d\n",
       "dtype: object"
      ]
     },
     "execution_count": 10,
     "metadata": {},
     "output_type": "execute_result"
    }
   ],
   "source": [
    "pd.Series(labels, list)"
   ]
  },
  {
   "cell_type": "code",
   "execution_count": 11,
   "id": "64a3acaa",
   "metadata": {},
   "outputs": [
    {
     "data": {
      "text/plain": [
       "w    34\n",
       "m    40\n",
       "y    45\n",
       "z    50\n",
       "dtype: int64"
      ]
     },
     "execution_count": 11,
     "metadata": {},
     "output_type": "execute_result"
    }
   ],
   "source": [
    "pd.Series(dict)"
   ]
  },
  {
   "cell_type": "markdown",
   "id": "c369d8a1",
   "metadata": {},
   "source": [
    "## pandas dataframe and indexing"
   ]
  },
  {
   "cell_type": "code",
   "execution_count": 12,
   "id": "0bc8d0e8",
   "metadata": {},
   "outputs": [
    {
     "data": {
      "text/plain": [
       "cricket       10\n",
       "football      15\n",
       "volleyball    20\n",
       "basketball    25\n",
       "dtype: int64"
      ]
     },
     "execution_count": 12,
     "metadata": {},
     "output_type": "execute_result"
    }
   ],
   "source": [
    "sports1=pd.Series([10,15,20,25],index=['cricket','football','volleyball', 'basketball'])\n",
    "sports1"
   ]
  },
  {
   "cell_type": "code",
   "execution_count": 13,
   "id": "9a1f10fb",
   "metadata": {},
   "outputs": [
    {
     "data": {
      "text/plain": [
       "20"
      ]
     },
     "execution_count": 13,
     "metadata": {},
     "output_type": "execute_result"
    }
   ],
   "source": [
    "sports1['volleyball']"
   ]
  },
  {
   "cell_type": "code",
   "execution_count": 14,
   "id": "0d6361c2",
   "metadata": {},
   "outputs": [
    {
     "data": {
      "text/plain": [
       "cricket       13\n",
       "football      25\n",
       "volleyball    30\n",
       "golf          45\n",
       "dtype: int64"
      ]
     },
     "execution_count": 14,
     "metadata": {},
     "output_type": "execute_result"
    }
   ],
   "source": [
    "sports2=pd.Series([13,25,30,45],index=['cricket','football','volleyball','golf'])\n",
    "sports2"
   ]
  },
  {
   "cell_type": "code",
   "execution_count": 15,
   "id": "e8d75c70",
   "metadata": {},
   "outputs": [
    {
     "data": {
      "text/plain": [
       "basketball     NaN\n",
       "cricket       23.0\n",
       "football      40.0\n",
       "golf           NaN\n",
       "volleyball    50.0\n",
       "dtype: float64"
      ]
     },
     "execution_count": 15,
     "metadata": {},
     "output_type": "execute_result"
    }
   ],
   "source": [
    "sports1+sports2"
   ]
  },
  {
   "cell_type": "code",
   "execution_count": 17,
   "id": "d10c4272",
   "metadata": {},
   "outputs": [
    {
     "data": {
      "text/html": [
       "<div>\n",
       "<style scoped>\n",
       "    .dataframe tbody tr th:only-of-type {\n",
       "        vertical-align: middle;\n",
       "    }\n",
       "\n",
       "    .dataframe tbody tr th {\n",
       "        vertical-align: top;\n",
       "    }\n",
       "\n",
       "    .dataframe thead th {\n",
       "        text-align: right;\n",
       "    }\n",
       "</style>\n",
       "<table border=\"1\" class=\"dataframe\">\n",
       "  <thead>\n",
       "    <tr style=\"text-align: right;\">\n",
       "      <th></th>\n",
       "      <th>s1</th>\n",
       "      <th>s2</th>\n",
       "      <th>s3</th>\n",
       "      <th>s4</th>\n",
       "      <th>s5</th>\n",
       "    </tr>\n",
       "  </thead>\n",
       "  <tbody>\n",
       "    <tr>\n",
       "      <th>a</th>\n",
       "      <td>0.636244</td>\n",
       "      <td>0.283322</td>\n",
       "      <td>0.832733</td>\n",
       "      <td>0.231797</td>\n",
       "      <td>0.693046</td>\n",
       "    </tr>\n",
       "    <tr>\n",
       "      <th>b</th>\n",
       "      <td>0.283838</td>\n",
       "      <td>0.799664</td>\n",
       "      <td>0.298806</td>\n",
       "      <td>0.092272</td>\n",
       "      <td>0.597583</td>\n",
       "    </tr>\n",
       "    <tr>\n",
       "      <th>c</th>\n",
       "      <td>0.344535</td>\n",
       "      <td>0.579269</td>\n",
       "      <td>0.830793</td>\n",
       "      <td>0.914499</td>\n",
       "      <td>0.274287</td>\n",
       "    </tr>\n",
       "    <tr>\n",
       "      <th>d</th>\n",
       "      <td>0.948500</td>\n",
       "      <td>0.845478</td>\n",
       "      <td>0.082207</td>\n",
       "      <td>0.281410</td>\n",
       "      <td>0.641418</td>\n",
       "    </tr>\n",
       "    <tr>\n",
       "      <th>e</th>\n",
       "      <td>0.371452</td>\n",
       "      <td>0.456873</td>\n",
       "      <td>0.787336</td>\n",
       "      <td>0.339970</td>\n",
       "      <td>0.041328</td>\n",
       "    </tr>\n",
       "    <tr>\n",
       "      <th>f</th>\n",
       "      <td>0.959626</td>\n",
       "      <td>0.362624</td>\n",
       "      <td>0.979942</td>\n",
       "      <td>0.321664</td>\n",
       "      <td>0.985783</td>\n",
       "    </tr>\n",
       "    <tr>\n",
       "      <th>g</th>\n",
       "      <td>0.905211</td>\n",
       "      <td>0.836707</td>\n",
       "      <td>0.613218</td>\n",
       "      <td>0.877795</td>\n",
       "      <td>0.658728</td>\n",
       "    </tr>\n",
       "    <tr>\n",
       "      <th>h</th>\n",
       "      <td>0.660161</td>\n",
       "      <td>0.380711</td>\n",
       "      <td>0.715825</td>\n",
       "      <td>0.998139</td>\n",
       "      <td>0.731670</td>\n",
       "    </tr>\n",
       "  </tbody>\n",
       "</table>\n",
       "</div>"
      ],
      "text/plain": [
       "         s1        s2        s3        s4        s5\n",
       "a  0.636244  0.283322  0.832733  0.231797  0.693046\n",
       "b  0.283838  0.799664  0.298806  0.092272  0.597583\n",
       "c  0.344535  0.579269  0.830793  0.914499  0.274287\n",
       "d  0.948500  0.845478  0.082207  0.281410  0.641418\n",
       "e  0.371452  0.456873  0.787336  0.339970  0.041328\n",
       "f  0.959626  0.362624  0.979942  0.321664  0.985783\n",
       "g  0.905211  0.836707  0.613218  0.877795  0.658728\n",
       "h  0.660161  0.380711  0.715825  0.998139  0.731670"
      ]
     },
     "execution_count": 17,
     "metadata": {},
     "output_type": "execute_result"
    }
   ],
   "source": [
    "df1=pd.DataFrame(np.random.rand(8,5),index='a b c d e f g h'.split(),columns='s1 s2 s3 s4 s5'.split())\n",
    "df1"
   ]
  },
  {
   "cell_type": "code",
   "execution_count": 19,
   "id": "1faf9102",
   "metadata": {},
   "outputs": [
    {
     "data": {
      "text/html": [
       "<div>\n",
       "<style scoped>\n",
       "    .dataframe tbody tr th:only-of-type {\n",
       "        vertical-align: middle;\n",
       "    }\n",
       "\n",
       "    .dataframe tbody tr th {\n",
       "        vertical-align: top;\n",
       "    }\n",
       "\n",
       "    .dataframe thead th {\n",
       "        text-align: right;\n",
       "    }\n",
       "</style>\n",
       "<table border=\"1\" class=\"dataframe\">\n",
       "  <thead>\n",
       "    <tr style=\"text-align: right;\">\n",
       "      <th></th>\n",
       "      <th>s1</th>\n",
       "      <th>s2</th>\n",
       "      <th>s3</th>\n",
       "    </tr>\n",
       "  </thead>\n",
       "  <tbody>\n",
       "    <tr>\n",
       "      <th>a</th>\n",
       "      <td>0.636244</td>\n",
       "      <td>0.283322</td>\n",
       "      <td>0.832733</td>\n",
       "    </tr>\n",
       "    <tr>\n",
       "      <th>b</th>\n",
       "      <td>0.283838</td>\n",
       "      <td>0.799664</td>\n",
       "      <td>0.298806</td>\n",
       "    </tr>\n",
       "    <tr>\n",
       "      <th>c</th>\n",
       "      <td>0.344535</td>\n",
       "      <td>0.579269</td>\n",
       "      <td>0.830793</td>\n",
       "    </tr>\n",
       "    <tr>\n",
       "      <th>d</th>\n",
       "      <td>0.948500</td>\n",
       "      <td>0.845478</td>\n",
       "      <td>0.082207</td>\n",
       "    </tr>\n",
       "    <tr>\n",
       "      <th>e</th>\n",
       "      <td>0.371452</td>\n",
       "      <td>0.456873</td>\n",
       "      <td>0.787336</td>\n",
       "    </tr>\n",
       "    <tr>\n",
       "      <th>f</th>\n",
       "      <td>0.959626</td>\n",
       "      <td>0.362624</td>\n",
       "      <td>0.979942</td>\n",
       "    </tr>\n",
       "    <tr>\n",
       "      <th>g</th>\n",
       "      <td>0.905211</td>\n",
       "      <td>0.836707</td>\n",
       "      <td>0.613218</td>\n",
       "    </tr>\n",
       "    <tr>\n",
       "      <th>h</th>\n",
       "      <td>0.660161</td>\n",
       "      <td>0.380711</td>\n",
       "      <td>0.715825</td>\n",
       "    </tr>\n",
       "  </tbody>\n",
       "</table>\n",
       "</div>"
      ],
      "text/plain": [
       "         s1        s2        s3\n",
       "a  0.636244  0.283322  0.832733\n",
       "b  0.283838  0.799664  0.298806\n",
       "c  0.344535  0.579269  0.830793\n",
       "d  0.948500  0.845478  0.082207\n",
       "e  0.371452  0.456873  0.787336\n",
       "f  0.959626  0.362624  0.979942\n",
       "g  0.905211  0.836707  0.613218\n",
       "h  0.660161  0.380711  0.715825"
      ]
     },
     "execution_count": 19,
     "metadata": {},
     "output_type": "execute_result"
    }
   ],
   "source": [
    "df1[['s1','s2','s3']]"
   ]
  },
  {
   "cell_type": "code",
   "execution_count": 22,
   "id": "c7e16ace",
   "metadata": {},
   "outputs": [
    {
     "data": {
      "text/html": [
       "<div>\n",
       "<style scoped>\n",
       "    .dataframe tbody tr th:only-of-type {\n",
       "        vertical-align: middle;\n",
       "    }\n",
       "\n",
       "    .dataframe tbody tr th {\n",
       "        vertical-align: top;\n",
       "    }\n",
       "\n",
       "    .dataframe thead th {\n",
       "        text-align: right;\n",
       "    }\n",
       "</style>\n",
       "<table border=\"1\" class=\"dataframe\">\n",
       "  <thead>\n",
       "    <tr style=\"text-align: right;\">\n",
       "      <th></th>\n",
       "      <th>s1</th>\n",
       "      <th>s2</th>\n",
       "      <th>s3</th>\n",
       "      <th>s4</th>\n",
       "      <th>s5</th>\n",
       "      <th>s6</th>\n",
       "    </tr>\n",
       "  </thead>\n",
       "  <tbody>\n",
       "    <tr>\n",
       "      <th>a</th>\n",
       "      <td>0.636244</td>\n",
       "      <td>0.283322</td>\n",
       "      <td>0.832733</td>\n",
       "      <td>0.231797</td>\n",
       "      <td>0.693046</td>\n",
       "      <td>0.918041</td>\n",
       "    </tr>\n",
       "    <tr>\n",
       "      <th>b</th>\n",
       "      <td>0.283838</td>\n",
       "      <td>0.799664</td>\n",
       "      <td>0.298806</td>\n",
       "      <td>0.092272</td>\n",
       "      <td>0.597583</td>\n",
       "      <td>0.474976</td>\n",
       "    </tr>\n",
       "    <tr>\n",
       "      <th>c</th>\n",
       "      <td>0.344535</td>\n",
       "      <td>0.579269</td>\n",
       "      <td>0.830793</td>\n",
       "      <td>0.914499</td>\n",
       "      <td>0.274287</td>\n",
       "      <td>1.256109</td>\n",
       "    </tr>\n",
       "    <tr>\n",
       "      <th>d</th>\n",
       "      <td>0.948500</td>\n",
       "      <td>0.845478</td>\n",
       "      <td>0.082207</td>\n",
       "      <td>0.281410</td>\n",
       "      <td>0.641418</td>\n",
       "      <td>1.478756</td>\n",
       "    </tr>\n",
       "    <tr>\n",
       "      <th>e</th>\n",
       "      <td>0.371452</td>\n",
       "      <td>0.456873</td>\n",
       "      <td>0.787336</td>\n",
       "      <td>0.339970</td>\n",
       "      <td>0.041328</td>\n",
       "      <td>8.987967</td>\n",
       "    </tr>\n",
       "    <tr>\n",
       "      <th>f</th>\n",
       "      <td>0.959626</td>\n",
       "      <td>0.362624</td>\n",
       "      <td>0.979942</td>\n",
       "      <td>0.321664</td>\n",
       "      <td>0.985783</td>\n",
       "      <td>0.973466</td>\n",
       "    </tr>\n",
       "    <tr>\n",
       "      <th>g</th>\n",
       "      <td>0.905211</td>\n",
       "      <td>0.836707</td>\n",
       "      <td>0.613218</td>\n",
       "      <td>0.877795</td>\n",
       "      <td>0.658728</td>\n",
       "      <td>1.374180</td>\n",
       "    </tr>\n",
       "    <tr>\n",
       "      <th>h</th>\n",
       "      <td>0.660161</td>\n",
       "      <td>0.380711</td>\n",
       "      <td>0.715825</td>\n",
       "      <td>0.998139</td>\n",
       "      <td>0.731670</td>\n",
       "      <td>0.902266</td>\n",
       "    </tr>\n",
       "  </tbody>\n",
       "</table>\n",
       "</div>"
      ],
      "text/plain": [
       "         s1        s2        s3        s4        s5        s6\n",
       "a  0.636244  0.283322  0.832733  0.231797  0.693046  0.918041\n",
       "b  0.283838  0.799664  0.298806  0.092272  0.597583  0.474976\n",
       "c  0.344535  0.579269  0.830793  0.914499  0.274287  1.256109\n",
       "d  0.948500  0.845478  0.082207  0.281410  0.641418  1.478756\n",
       "e  0.371452  0.456873  0.787336  0.339970  0.041328  8.987967\n",
       "f  0.959626  0.362624  0.979942  0.321664  0.985783  0.973466\n",
       "g  0.905211  0.836707  0.613218  0.877795  0.658728  1.374180\n",
       "h  0.660161  0.380711  0.715825  0.998139  0.731670  0.902266"
      ]
     },
     "execution_count": 22,
     "metadata": {},
     "output_type": "execute_result"
    }
   ],
   "source": [
    "df1['s6']=df1['s1']/df1['s5']\n",
    "df1"
   ]
  },
  {
   "cell_type": "code",
   "execution_count": 24,
   "id": "ac427e7f",
   "metadata": {},
   "outputs": [
    {
     "data": {
      "text/html": [
       "<div>\n",
       "<style scoped>\n",
       "    .dataframe tbody tr th:only-of-type {\n",
       "        vertical-align: middle;\n",
       "    }\n",
       "\n",
       "    .dataframe tbody tr th {\n",
       "        vertical-align: top;\n",
       "    }\n",
       "\n",
       "    .dataframe thead th {\n",
       "        text-align: right;\n",
       "    }\n",
       "</style>\n",
       "<table border=\"1\" class=\"dataframe\">\n",
       "  <thead>\n",
       "    <tr style=\"text-align: right;\">\n",
       "      <th></th>\n",
       "      <th>s1</th>\n",
       "      <th>s2</th>\n",
       "      <th>s3</th>\n",
       "      <th>s4</th>\n",
       "      <th>s6</th>\n",
       "    </tr>\n",
       "  </thead>\n",
       "  <tbody>\n",
       "    <tr>\n",
       "      <th>a</th>\n",
       "      <td>0.636244</td>\n",
       "      <td>0.283322</td>\n",
       "      <td>0.832733</td>\n",
       "      <td>0.231797</td>\n",
       "      <td>0.918041</td>\n",
       "    </tr>\n",
       "    <tr>\n",
       "      <th>b</th>\n",
       "      <td>0.283838</td>\n",
       "      <td>0.799664</td>\n",
       "      <td>0.298806</td>\n",
       "      <td>0.092272</td>\n",
       "      <td>0.474976</td>\n",
       "    </tr>\n",
       "    <tr>\n",
       "      <th>c</th>\n",
       "      <td>0.344535</td>\n",
       "      <td>0.579269</td>\n",
       "      <td>0.830793</td>\n",
       "      <td>0.914499</td>\n",
       "      <td>1.256109</td>\n",
       "    </tr>\n",
       "    <tr>\n",
       "      <th>d</th>\n",
       "      <td>0.948500</td>\n",
       "      <td>0.845478</td>\n",
       "      <td>0.082207</td>\n",
       "      <td>0.281410</td>\n",
       "      <td>1.478756</td>\n",
       "    </tr>\n",
       "    <tr>\n",
       "      <th>e</th>\n",
       "      <td>0.371452</td>\n",
       "      <td>0.456873</td>\n",
       "      <td>0.787336</td>\n",
       "      <td>0.339970</td>\n",
       "      <td>8.987967</td>\n",
       "    </tr>\n",
       "    <tr>\n",
       "      <th>f</th>\n",
       "      <td>0.959626</td>\n",
       "      <td>0.362624</td>\n",
       "      <td>0.979942</td>\n",
       "      <td>0.321664</td>\n",
       "      <td>0.973466</td>\n",
       "    </tr>\n",
       "    <tr>\n",
       "      <th>g</th>\n",
       "      <td>0.905211</td>\n",
       "      <td>0.836707</td>\n",
       "      <td>0.613218</td>\n",
       "      <td>0.877795</td>\n",
       "      <td>1.374180</td>\n",
       "    </tr>\n",
       "    <tr>\n",
       "      <th>h</th>\n",
       "      <td>0.660161</td>\n",
       "      <td>0.380711</td>\n",
       "      <td>0.715825</td>\n",
       "      <td>0.998139</td>\n",
       "      <td>0.902266</td>\n",
       "    </tr>\n",
       "  </tbody>\n",
       "</table>\n",
       "</div>"
      ],
      "text/plain": [
       "         s1        s2        s3        s4        s6\n",
       "a  0.636244  0.283322  0.832733  0.231797  0.918041\n",
       "b  0.283838  0.799664  0.298806  0.092272  0.474976\n",
       "c  0.344535  0.579269  0.830793  0.914499  1.256109\n",
       "d  0.948500  0.845478  0.082207  0.281410  1.478756\n",
       "e  0.371452  0.456873  0.787336  0.339970  8.987967\n",
       "f  0.959626  0.362624  0.979942  0.321664  0.973466\n",
       "g  0.905211  0.836707  0.613218  0.877795  1.374180\n",
       "h  0.660161  0.380711  0.715825  0.998139  0.902266"
      ]
     },
     "execution_count": 24,
     "metadata": {},
     "output_type": "execute_result"
    }
   ],
   "source": [
    "df1.drop('s5',axis=1)"
   ]
  },
  {
   "cell_type": "code",
   "execution_count": 25,
   "id": "d8f53ed8",
   "metadata": {},
   "outputs": [
    {
     "data": {
      "text/html": [
       "<div>\n",
       "<style scoped>\n",
       "    .dataframe tbody tr th:only-of-type {\n",
       "        vertical-align: middle;\n",
       "    }\n",
       "\n",
       "    .dataframe tbody tr th {\n",
       "        vertical-align: top;\n",
       "    }\n",
       "\n",
       "    .dataframe thead th {\n",
       "        text-align: right;\n",
       "    }\n",
       "</style>\n",
       "<table border=\"1\" class=\"dataframe\">\n",
       "  <thead>\n",
       "    <tr style=\"text-align: right;\">\n",
       "      <th></th>\n",
       "      <th>s1</th>\n",
       "      <th>s2</th>\n",
       "      <th>s3</th>\n",
       "      <th>s4</th>\n",
       "      <th>s5</th>\n",
       "      <th>s6</th>\n",
       "    </tr>\n",
       "  </thead>\n",
       "  <tbody>\n",
       "    <tr>\n",
       "      <th>a</th>\n",
       "      <td>0.636244</td>\n",
       "      <td>0.283322</td>\n",
       "      <td>0.832733</td>\n",
       "      <td>0.231797</td>\n",
       "      <td>0.693046</td>\n",
       "      <td>0.918041</td>\n",
       "    </tr>\n",
       "    <tr>\n",
       "      <th>b</th>\n",
       "      <td>0.283838</td>\n",
       "      <td>0.799664</td>\n",
       "      <td>0.298806</td>\n",
       "      <td>0.092272</td>\n",
       "      <td>0.597583</td>\n",
       "      <td>0.474976</td>\n",
       "    </tr>\n",
       "    <tr>\n",
       "      <th>d</th>\n",
       "      <td>0.948500</td>\n",
       "      <td>0.845478</td>\n",
       "      <td>0.082207</td>\n",
       "      <td>0.281410</td>\n",
       "      <td>0.641418</td>\n",
       "      <td>1.478756</td>\n",
       "    </tr>\n",
       "    <tr>\n",
       "      <th>e</th>\n",
       "      <td>0.371452</td>\n",
       "      <td>0.456873</td>\n",
       "      <td>0.787336</td>\n",
       "      <td>0.339970</td>\n",
       "      <td>0.041328</td>\n",
       "      <td>8.987967</td>\n",
       "    </tr>\n",
       "    <tr>\n",
       "      <th>f</th>\n",
       "      <td>0.959626</td>\n",
       "      <td>0.362624</td>\n",
       "      <td>0.979942</td>\n",
       "      <td>0.321664</td>\n",
       "      <td>0.985783</td>\n",
       "      <td>0.973466</td>\n",
       "    </tr>\n",
       "    <tr>\n",
       "      <th>g</th>\n",
       "      <td>0.905211</td>\n",
       "      <td>0.836707</td>\n",
       "      <td>0.613218</td>\n",
       "      <td>0.877795</td>\n",
       "      <td>0.658728</td>\n",
       "      <td>1.374180</td>\n",
       "    </tr>\n",
       "    <tr>\n",
       "      <th>h</th>\n",
       "      <td>0.660161</td>\n",
       "      <td>0.380711</td>\n",
       "      <td>0.715825</td>\n",
       "      <td>0.998139</td>\n",
       "      <td>0.731670</td>\n",
       "      <td>0.902266</td>\n",
       "    </tr>\n",
       "  </tbody>\n",
       "</table>\n",
       "</div>"
      ],
      "text/plain": [
       "         s1        s2        s3        s4        s5        s6\n",
       "a  0.636244  0.283322  0.832733  0.231797  0.693046  0.918041\n",
       "b  0.283838  0.799664  0.298806  0.092272  0.597583  0.474976\n",
       "d  0.948500  0.845478  0.082207  0.281410  0.641418  1.478756\n",
       "e  0.371452  0.456873  0.787336  0.339970  0.041328  8.987967\n",
       "f  0.959626  0.362624  0.979942  0.321664  0.985783  0.973466\n",
       "g  0.905211  0.836707  0.613218  0.877795  0.658728  1.374180\n",
       "h  0.660161  0.380711  0.715825  0.998139  0.731670  0.902266"
      ]
     },
     "execution_count": 25,
     "metadata": {},
     "output_type": "execute_result"
    }
   ],
   "source": [
    "df1.drop('c')"
   ]
  },
  {
   "cell_type": "code",
   "execution_count": 28,
   "id": "ec6f7466",
   "metadata": {},
   "outputs": [
    {
     "data": {
      "text/plain": [
       "{'ID': [10, 12, 14, 16, 18],\n",
       " 'Name': ['u', 'v', 'w', 'x', 'y'],\n",
       " 'profit': [20, 30, 40, 50, 60]}"
      ]
     },
     "execution_count": 28,
     "metadata": {},
     "output_type": "execute_result"
    }
   ],
   "source": [
    "df2={'ID':[10,12,14,16,18],'Name':['u','v','w','x','y'],'profit':[20,30,40,50,60]}\n",
    "df2"
   ]
  },
  {
   "cell_type": "code",
   "execution_count": 30,
   "id": "b445636e",
   "metadata": {},
   "outputs": [
    {
     "data": {
      "text/html": [
       "<div>\n",
       "<style scoped>\n",
       "    .dataframe tbody tr th:only-of-type {\n",
       "        vertical-align: middle;\n",
       "    }\n",
       "\n",
       "    .dataframe tbody tr th {\n",
       "        vertical-align: top;\n",
       "    }\n",
       "\n",
       "    .dataframe thead th {\n",
       "        text-align: right;\n",
       "    }\n",
       "</style>\n",
       "<table border=\"1\" class=\"dataframe\">\n",
       "  <thead>\n",
       "    <tr style=\"text-align: right;\">\n",
       "      <th></th>\n",
       "      <th>ID</th>\n",
       "      <th>Name</th>\n",
       "      <th>profit</th>\n",
       "    </tr>\n",
       "  </thead>\n",
       "  <tbody>\n",
       "    <tr>\n",
       "      <th>1</th>\n",
       "      <td>10</td>\n",
       "      <td>u</td>\n",
       "      <td>20</td>\n",
       "    </tr>\n",
       "    <tr>\n",
       "      <th>2</th>\n",
       "      <td>12</td>\n",
       "      <td>v</td>\n",
       "      <td>30</td>\n",
       "    </tr>\n",
       "    <tr>\n",
       "      <th>3</th>\n",
       "      <td>14</td>\n",
       "      <td>w</td>\n",
       "      <td>40</td>\n",
       "    </tr>\n",
       "    <tr>\n",
       "      <th>4</th>\n",
       "      <td>16</td>\n",
       "      <td>x</td>\n",
       "      <td>50</td>\n",
       "    </tr>\n",
       "    <tr>\n",
       "      <th>5</th>\n",
       "      <td>18</td>\n",
       "      <td>y</td>\n",
       "      <td>60</td>\n",
       "    </tr>\n",
       "  </tbody>\n",
       "</table>\n",
       "</div>"
      ],
      "text/plain": [
       "   ID Name  profit\n",
       "1  10    u      20\n",
       "2  12    v      30\n",
       "3  14    w      40\n",
       "4  16    x      50\n",
       "5  18    y      60"
      ]
     },
     "execution_count": 30,
     "metadata": {},
     "output_type": "execute_result"
    }
   ],
   "source": [
    "df=pd.DataFrame(df2,index=[1,2,3,4,5])\n",
    "df"
   ]
  },
  {
   "cell_type": "code",
   "execution_count": 33,
   "id": "076e9c4e",
   "metadata": {},
   "outputs": [
    {
     "data": {
      "text/plain": [
       "array([0, 0, 0, 0, 0, 0, 0, 0, 0, 0])"
      ]
     },
     "execution_count": 33,
     "metadata": {},
     "output_type": "execute_result"
    }
   ],
   "source": [
    "##create a null vector of size 10\n",
    "y=np.zeros(10,dtype=int)\n",
    "y"
   ]
  },
  {
   "cell_type": "code",
   "execution_count": 34,
   "id": "2b655f0b",
   "metadata": {},
   "outputs": [
    {
     "data": {
      "text/plain": [
       "array([0, 0, 0, 0, 1, 0, 0, 0, 0, 0])"
      ]
     },
     "execution_count": 34,
     "metadata": {},
     "output_type": "execute_result"
    }
   ],
   "source": [
    "#5th value should be 1\n",
    "y[4]=1\n",
    "y"
   ]
  },
  {
   "cell_type": "code",
   "execution_count": 52,
   "id": "e52ad9ee",
   "metadata": {},
   "outputs": [
    {
     "data": {
      "text/plain": [
       "array([10, 11, 12, 13, 14, 15, 16, 17, 18, 19, 20, 21, 22, 23, 24, 25, 26,\n",
       "       27, 28, 29, 30, 31, 32, 33, 34, 35, 36, 37, 38, 39, 40, 41, 42, 43,\n",
       "       44, 45, 46, 47, 48, 49, 50, 51, 52, 53, 54, 55, 56, 57, 58, 59, 60,\n",
       "       61, 62, 63, 64, 65])"
      ]
     },
     "execution_count": 52,
     "metadata": {},
     "output_type": "execute_result"
    }
   ],
   "source": [
    "#create a vector with values ranging from 10 to 65\n",
    "z=np.arange(10,66)\n",
    "z"
   ]
  },
  {
   "cell_type": "code",
   "execution_count": 53,
   "id": "f6896358",
   "metadata": {},
   "outputs": [
    {
     "data": {
      "text/plain": [
       "array([65, 64, 63, 62, 61, 60, 59, 58, 57, 56, 55, 54, 53, 52, 51, 50, 49,\n",
       "       48, 47, 46, 45, 44, 43, 42, 41, 40, 39, 38, 37, 36, 35, 34, 33, 32,\n",
       "       31, 30, 29, 28, 27, 26, 25, 24, 23, 22, 21, 20, 19, 18, 17, 16, 15,\n",
       "       14, 13, 12, 11, 10])"
      ]
     },
     "execution_count": 53,
     "metadata": {},
     "output_type": "execute_result"
    }
   ],
   "source": [
    "#reversing of a vector\n",
    "z[::-1]"
   ]
  },
  {
   "cell_type": "code",
   "execution_count": 58,
   "id": "a4b06b3b",
   "metadata": {},
   "outputs": [
    {
     "data": {
      "text/plain": [
       "array([[0, 1, 2],\n",
       "       [3, 4, 5],\n",
       "       [6, 7, 8]])"
      ]
     },
     "execution_count": 58,
     "metadata": {},
     "output_type": "execute_result"
    }
   ],
   "source": [
    "##create a 3x3 matrix with values ranging from 0 to 8\n",
    "a=np.arange(0,9)\n",
    "a.reshape(3,3)\n"
   ]
  },
  {
   "cell_type": "code",
   "execution_count": null,
   "id": "cec77ba2",
   "metadata": {},
   "outputs": [],
   "source": []
  }
 ],
 "metadata": {
  "kernelspec": {
   "display_name": "Python 3",
   "language": "python",
   "name": "python3"
  },
  "language_info": {
   "codemirror_mode": {
    "name": "ipython",
    "version": 3
   },
   "file_extension": ".py",
   "mimetype": "text/x-python",
   "name": "python",
   "nbconvert_exporter": "python",
   "pygments_lexer": "ipython3",
   "version": "3.8.8"
  }
 },
 "nbformat": 4,
 "nbformat_minor": 5
}
